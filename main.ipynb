{
  "cells": [
    {
      "cell_type": "markdown",
      "metadata": {
        "id": "4jek6I-0UcA9",
        "colab_type": "text"
      },
      "source": [
        "# Desafio 3\n",
        "\n",
        "Neste desafio, iremos praticar nossos conhecimentos sobre distribuições de probabilidade. Para isso,\n",
        "dividiremos este desafio em duas partes:\n",
        "    \n",
        "1. A primeira parte contará com 3 questões sobre um *data set* artificial com dados de uma amostra normal e\n",
        "    uma binomial.\n",
        "2. A segunda parte será sobre a análise da distribuição de uma variável do _data set_ [Pulsar Star](https://archive.ics.uci.edu/ml/datasets/HTRU2), contendo 2 questões.\n",
        "\n",
        "> Obs.: Por favor, não modifique o nome das funções de resposta."
      ]
    },
    {
      "cell_type": "markdown",
      "metadata": {
        "id": "HYJdDX0QUcA_",
        "colab_type": "text"
      },
      "source": [
        "## _Setup_ geral"
      ]
    },
    {
      "cell_type": "code",
      "metadata": {
        "id": "RzS-6PuBUcBA",
        "colab_type": "code",
        "colab": {}
      },
      "source": [
        "import pandas as pd\n",
        "import matplotlib.pyplot as plt\n",
        "import numpy as np\n",
        "import scipy.stats as sct\n",
        "import seaborn as sns\n",
        "from statsmodels.distributions.empirical_distribution import ECDF"
      ],
      "execution_count": 163,
      "outputs": []
    },
    {
      "cell_type": "code",
      "metadata": {
        "id": "0fW1OiAYUcBF",
        "colab_type": "code",
        "colab": {}
      },
      "source": [
        "#%matplotlib inline\n",
        "\n",
        "#from IPython.core.pylabtools import figsize\n",
        "\n",
        "\n",
        "#figsize(12, 8)\n",
        "\n",
        "#sns.set()"
      ],
      "execution_count": 164,
      "outputs": []
    },
    {
      "cell_type": "markdown",
      "metadata": {
        "id": "9G1-3j8mUcBJ",
        "colab_type": "text"
      },
      "source": [
        "## Parte 1"
      ]
    },
    {
      "cell_type": "markdown",
      "metadata": {
        "id": "bMigIoF6UcBJ",
        "colab_type": "text"
      },
      "source": [
        "### _Setup_ da parte 1"
      ]
    },
    {
      "cell_type": "code",
      "metadata": {
        "id": "bqU27mwTUcBK",
        "colab_type": "code",
        "colab": {}
      },
      "source": [
        "np.random.seed(42)\n",
        "    \n",
        "dataframe = pd.DataFrame({\"normal\": sct.norm.rvs(20, 4, size=10000),\n",
        "                     \"binomial\": sct.binom.rvs(100, 0.2, size=10000)})"
      ],
      "execution_count": 165,
      "outputs": []
    },
    {
      "cell_type": "markdown",
      "metadata": {
        "id": "1fT4wV09UcBN",
        "colab_type": "text"
      },
      "source": [
        "## Inicie sua análise a partir da parte 1 a partir daqui"
      ]
    },
    {
      "cell_type": "code",
      "metadata": {
        "id": "lkQKe3_WWIbu",
        "colab_type": "code",
        "colab": {
          "base_uri": "https://localhost:8080/",
          "height": 402
        },
        "outputId": "13db77f4-b684-45da-e016-85a934e0ae71"
      },
      "source": [
        "dataframe"
      ],
      "execution_count": 166,
      "outputs": [
        {
          "output_type": "execute_result",
          "data": {
            "text/html": [
              "<div>\n",
              "<style scoped>\n",
              "    .dataframe tbody tr th:only-of-type {\n",
              "        vertical-align: middle;\n",
              "    }\n",
              "\n",
              "    .dataframe tbody tr th {\n",
              "        vertical-align: top;\n",
              "    }\n",
              "\n",
              "    .dataframe thead th {\n",
              "        text-align: right;\n",
              "    }\n",
              "</style>\n",
              "<table border=\"1\" class=\"dataframe\">\n",
              "  <thead>\n",
              "    <tr style=\"text-align: right;\">\n",
              "      <th></th>\n",
              "      <th>normal</th>\n",
              "      <th>binomial</th>\n",
              "    </tr>\n",
              "  </thead>\n",
              "  <tbody>\n",
              "    <tr>\n",
              "      <th>0</th>\n",
              "      <td>21.986857</td>\n",
              "      <td>18</td>\n",
              "    </tr>\n",
              "    <tr>\n",
              "      <th>1</th>\n",
              "      <td>19.446943</td>\n",
              "      <td>15</td>\n",
              "    </tr>\n",
              "    <tr>\n",
              "      <th>2</th>\n",
              "      <td>22.590754</td>\n",
              "      <td>14</td>\n",
              "    </tr>\n",
              "    <tr>\n",
              "      <th>3</th>\n",
              "      <td>26.092119</td>\n",
              "      <td>15</td>\n",
              "    </tr>\n",
              "    <tr>\n",
              "      <th>4</th>\n",
              "      <td>19.063387</td>\n",
              "      <td>21</td>\n",
              "    </tr>\n",
              "    <tr>\n",
              "      <th>...</th>\n",
              "      <td>...</td>\n",
              "      <td>...</td>\n",
              "    </tr>\n",
              "    <tr>\n",
              "      <th>9995</th>\n",
              "      <td>25.204408</td>\n",
              "      <td>22</td>\n",
              "    </tr>\n",
              "    <tr>\n",
              "      <th>9996</th>\n",
              "      <td>12.006620</td>\n",
              "      <td>24</td>\n",
              "    </tr>\n",
              "    <tr>\n",
              "      <th>9997</th>\n",
              "      <td>17.178733</td>\n",
              "      <td>17</td>\n",
              "    </tr>\n",
              "    <tr>\n",
              "      <th>9998</th>\n",
              "      <td>21.983062</td>\n",
              "      <td>23</td>\n",
              "    </tr>\n",
              "    <tr>\n",
              "      <th>9999</th>\n",
              "      <td>22.577554</td>\n",
              "      <td>25</td>\n",
              "    </tr>\n",
              "  </tbody>\n",
              "</table>\n",
              "<p>10000 rows × 2 columns</p>\n",
              "</div>"
            ],
            "text/plain": [
              "         normal  binomial\n",
              "0     21.986857        18\n",
              "1     19.446943        15\n",
              "2     22.590754        14\n",
              "3     26.092119        15\n",
              "4     19.063387        21\n",
              "...         ...       ...\n",
              "9995  25.204408        22\n",
              "9996  12.006620        24\n",
              "9997  17.178733        17\n",
              "9998  21.983062        23\n",
              "9999  22.577554        25\n",
              "\n",
              "[10000 rows x 2 columns]"
            ]
          },
          "metadata": {
            "tags": []
          },
          "execution_count": 166
        }
      ]
    },
    {
      "cell_type": "code",
      "metadata": {
        "id": "lX_zDlOvUcBO",
        "colab_type": "code",
        "colab": {
          "base_uri": "https://localhost:8080/",
          "height": 502
        },
        "outputId": "793eb535-9671-44e6-8826-94a8124092ca"
      },
      "source": [
        "# Sua análise da parte 1 começa aqui.\n",
        "boxplot = dataframe.boxplot(column=['normal', 'binomial'])\n",
        "boxplot"
      ],
      "execution_count": 167,
      "outputs": [
        {
          "output_type": "execute_result",
          "data": {
            "text/plain": [
              "<matplotlib.axes._subplots.AxesSubplot at 0x7fa89ef9f5f8>"
            ]
          },
          "metadata": {
            "tags": []
          },
          "execution_count": 167
        },
        {
          "output_type": "display_data",
          "data": {
            "image/png": "[encoded data removed]",
            "text/plain": [
              "<Figure size 864x576 with 1 Axes>"
            ]
          },
          "metadata": {
            "tags": []
          }
        }
      ]
    },
    {
      "cell_type": "code",
      "metadata": {
        "id": "1HfMxN-IYrUi",
        "colab_type": "code",
        "colab": {
          "base_uri": "https://localhost:8080/",
          "height": 551
        },
        "outputId": "65ecf3bf-bc01-4c05-9676-386a7cb46f65"
      },
      "source": [
        " dataframe.hist(bins=50)"
      ],
      "execution_count": 168,
      "outputs": [
        {
          "output_type": "execute_result",
          "data": {
            "text/plain": [
              "array([[<matplotlib.axes._subplots.AxesSubplot object at 0x7fa89ef9ff60>,\n",
              "        <matplotlib.axes._subplots.AxesSubplot object at 0x7fa89eed0b38>]],\n",
              "      dtype=object)"
            ]
          },
          "metadata": {
            "tags": []
          },
          "execution_count": 168
        },
        {
          "output_type": "display_data",
          "data": {
            "image/png": "[encoded data removed]",
            "text/plain": [
              "<Figure size 864x576 with 2 Axes>"
            ]
          },
          "metadata": {
            "tags": []
          }
        }
      ]
    },
    {
      "cell_type": "markdown",
      "metadata": {
        "id": "csCBXv1eUcBR",
        "colab_type": "text"
      },
      "source": [
        "## Questão 1\n",
        "\n",
        "Qual a diferença entre os quartis (Q1, Q2 e Q3) das variáveis `normal` e `binomial` de `dataframe`? Responda como uma tupla de três elementos arredondados para três casas decimais.\n",
        "\n",
        "Em outra palavras, sejam `q1_norm`, `q2_norm` e `q3_norm` os quantis da variável `normal` e `q1_binom`, `q2_binom` e `q3_binom` os quantis da variável `binom`, qual a diferença `(q1_norm - q1 binom, q2_norm - q2_binom, q3_norm - q3_binom)`?"
      ]
    },
    {
      "cell_type": "code",
      "metadata": {
        "id": "X7hvBZTUUcBR",
        "colab_type": "code",
        "colab": {}
      },
      "source": [
        "def q1():\n",
        "    # Retorne aqui o resultado da questão 1.\n",
        "    q1_norm = dataframe.describe()['normal']['25%']\n",
        "    q1_binom = dataframe.describe()['binomial']['25%']\n",
        "\n",
        "    q2_norm = dataframe.describe()['normal']['50%']\n",
        "    q2_binom = dataframe.describe()['binomial']['50%']\n",
        "\n",
        "    q3_norm = dataframe.describe()['normal']['75%']\n",
        "    q3_binom = dataframe.describe()['binomial']['75%']\n",
        "    \n",
        "    delta_1 = round(q1_norm - q1_binom, 3)\n",
        "    delta_2 = round(q2_norm - q2_binom, 3)\n",
        "    delta_3 = round(q3_norm - q3_binom, 3)\n",
        "    \n",
        "    return (float(delta_1), float(delta_2), float(delta_3))"
      ],
      "execution_count": 241,
      "outputs": []
    },
    {
      "cell_type": "code",
      "metadata": {
        "id": "IGqNYfqCVupz",
        "colab_type": "code",
        "colab": {
          "base_uri": "https://localhost:8080/",
          "height": 34
        },
        "outputId": "6a07b1e1-a34a-4fdf-c0e8-70989fcfcd6b"
      },
      "source": [
        "q1()"
      ],
      "execution_count": 242,
      "outputs": [
        {
          "output_type": "execute_result",
          "data": {
            "text/plain": [
              "(0.31, -0.01, -0.316)"
            ]
          },
          "metadata": {
            "tags": []
          },
          "execution_count": 242
        }
      ]
    },
    {
      "cell_type": "markdown",
      "metadata": {
        "id": "BO1Z9hcJUcBU",
        "colab_type": "text"
      },
      "source": [
        "Para refletir:\n",
        "\n",
        "* Você esperava valores dessa magnitude?\n",
        "\n",
        "* Você é capaz de explicar como distribuições aparentemente tão diferentes (discreta e contínua, por exemplo) conseguem dar esses valores?"
      ]
    },
    {
      "cell_type": "markdown",
      "metadata": {
        "id": "WaOeGmnUUcBV",
        "colab_type": "text"
      },
      "source": [
        "## Questão 2\n",
        "\n",
        "Considere o intervalo $[\\bar{x} - s, \\bar{x} + s]$, onde $\\bar{x}$ é a média amostral e $s$ é o desvio padrão. Qual a probabilidade nesse intervalo, calculada pela função de distribuição acumulada empírica (CDF empírica) da variável `normal`? Responda como uma único escalar arredondado para três casas decimais."
      ]
    },
    {
      "cell_type": "code",
      "metadata": {
        "id": "Vt2dL3o7UcBV",
        "colab_type": "code",
        "colab": {}
      },
      "source": [
        "def q2():\n",
        "    # Retorne aqui o resultado da questão 2.\n",
        "    ecdf = ECDF(dataframe['normal'])\n",
        "\n",
        "    std_norm = dataframe.describe()['normal']['std']\n",
        "\n",
        "    mean_norm = dataframe.describe()['normal']['mean']\n",
        "\n",
        "    prob = ecdf([mean_norm - std_norm, mean_norm + std_norm])\n",
        "\n",
        "    return float(round(prob[1] - prob[0], 3))\n",
        "    "
      ],
      "execution_count": 238,
      "outputs": []
    },
    {
      "cell_type": "code",
      "metadata": {
        "id": "a29fQjXPZLQN",
        "colab_type": "code",
        "colab": {
          "base_uri": "https://localhost:8080/",
          "height": 34
        },
        "outputId": "889a0f09-cd85-4bee-c645-ffbcec9ba891"
      },
      "source": [
        "q2()"
      ],
      "execution_count": 240,
      "outputs": [
        {
          "output_type": "execute_result",
          "data": {
            "text/plain": [
              "0.684"
            ]
          },
          "metadata": {
            "tags": []
          },
          "execution_count": 240
        }
      ]
    },
    {
      "cell_type": "code",
      "metadata": {
        "id": "-MehwoBVa2LR",
        "colab_type": "code",
        "colab": {
          "base_uri": "https://localhost:8080/",
          "height": 284
        },
        "outputId": "778d121d-ecc6-4d45-e7e2-bfa585cee989"
      },
      "source": [
        "dataframe.describe()"
      ],
      "execution_count": 173,
      "outputs": [
        {
          "output_type": "execute_result",
          "data": {
            "text/html": [
              "<div>\n",
              "<style scoped>\n",
              "    .dataframe tbody tr th:only-of-type {\n",
              "        vertical-align: middle;\n",
              "    }\n",
              "\n",
              "    .dataframe tbody tr th {\n",
              "        vertical-align: top;\n",
              "    }\n",
              "\n",
              "    .dataframe thead th {\n",
              "        text-align: right;\n",
              "    }\n",
              "</style>\n",
              "<table border=\"1\" class=\"dataframe\">\n",
              "  <thead>\n",
              "    <tr style=\"text-align: right;\">\n",
              "      <th></th>\n",
              "      <th>normal</th>\n",
              "      <th>binomial</th>\n",
              "    </tr>\n",
              "  </thead>\n",
              "  <tbody>\n",
              "    <tr>\n",
              "      <th>count</th>\n",
              "      <td>10000.000000</td>\n",
              "      <td>10000.000000</td>\n",
              "    </tr>\n",
              "    <tr>\n",
              "      <th>mean</th>\n",
              "      <td>19.991456</td>\n",
              "      <td>20.097000</td>\n",
              "    </tr>\n",
              "    <tr>\n",
              "      <th>std</th>\n",
              "      <td>4.013850</td>\n",
              "      <td>4.041191</td>\n",
              "    </tr>\n",
              "    <tr>\n",
              "      <th>min</th>\n",
              "      <td>4.310399</td>\n",
              "      <td>6.000000</td>\n",
              "    </tr>\n",
              "    <tr>\n",
              "      <th>25%</th>\n",
              "      <td>17.309638</td>\n",
              "      <td>17.000000</td>\n",
              "    </tr>\n",
              "    <tr>\n",
              "      <th>50%</th>\n",
              "      <td>19.989620</td>\n",
              "      <td>20.000000</td>\n",
              "    </tr>\n",
              "    <tr>\n",
              "      <th>75%</th>\n",
              "      <td>22.684324</td>\n",
              "      <td>23.000000</td>\n",
              "    </tr>\n",
              "    <tr>\n",
              "      <th>max</th>\n",
              "      <td>35.704951</td>\n",
              "      <td>36.000000</td>\n",
              "    </tr>\n",
              "  </tbody>\n",
              "</table>\n",
              "</div>"
            ],
            "text/plain": [
              "             normal      binomial\n",
              "count  10000.000000  10000.000000\n",
              "mean      19.991456     20.097000\n",
              "std        4.013850      4.041191\n",
              "min        4.310399      6.000000\n",
              "25%       17.309638     17.000000\n",
              "50%       19.989620     20.000000\n",
              "75%       22.684324     23.000000\n",
              "max       35.704951     36.000000"
            ]
          },
          "metadata": {
            "tags": []
          },
          "execution_count": 173
        }
      ]
    },
    {
      "cell_type": "markdown",
      "metadata": {
        "id": "1vLpHmYFUcBZ",
        "colab_type": "text"
      },
      "source": [
        "Para refletir:\n",
        "\n",
        "* Esse valor se aproxima do esperado teórico?\n",
        "* Experimente também para os intervalos $[\\bar{x} - 2s, \\bar{x} + 2s]$ e $[\\bar{x} - 3s, \\bar{x} + 3s]$."
      ]
    },
    {
      "cell_type": "markdown",
      "metadata": {
        "id": "El56TzHxUcBa",
        "colab_type": "text"
      },
      "source": [
        "## Questão 3\n",
        "\n",
        "Qual é a diferença entre as médias e as variâncias das variáveis `binomial` e `normal`? Responda como uma tupla de dois elementos arredondados para três casas decimais.\n",
        "\n",
        "Em outras palavras, sejam `m_binom` e `v_binom` a média e a variância da variável `binomial`, e `m_norm` e `v_norm` a média e a variância da variável `normal`. Quais as diferenças `(m_binom - m_norm, v_binom - v_norm)`?"
      ]
    },
    {
      "cell_type": "code",
      "metadata": {
        "id": "i2YjkMxtUcBb",
        "colab_type": "code",
        "colab": {}
      },
      "source": [
        "def q3():\n",
        "\n",
        "    from statistics import pvariance\n",
        "\n",
        "    # Retorne aqui o resultado da questão 3.\n",
        "    m_binom = dataframe.describe()['binomial']['mean']\n",
        "    v_binom = pvariance(dataframe['binomial'])\n",
        "\n",
        "    m_norm = dataframe.describe()['normal']['mean']\n",
        "    v_norm = pvariance(dataframe['normal'])\n",
        "\n",
        "    delta_1 = round(m_binom - m_norm, 3)\n",
        "    delta_2 = round(v_binom - v_norm, 3)\n",
        "\n",
        "    return (float(delta_1), float(delta_2))"
      ],
      "execution_count": 235,
      "outputs": []
    },
    {
      "cell_type": "code",
      "metadata": {
        "id": "bFFtHaPsbVgx",
        "colab_type": "code",
        "colab": {
          "base_uri": "https://localhost:8080/",
          "height": 34
        },
        "outputId": "ea7dce4a-5f87-444a-aa12-f3cdad1c86d2"
      },
      "source": [
        "q3()"
      ],
      "execution_count": 237,
      "outputs": [
        {
          "output_type": "execute_result",
          "data": {
            "text/plain": [
              "(0.106, 0.22)"
            ]
          },
          "metadata": {
            "tags": []
          },
          "execution_count": 237
        }
      ]
    },
    {
      "cell_type": "markdown",
      "metadata": {
        "id": "gDjV9iMbUcBd",
        "colab_type": "text"
      },
      "source": [
        "Para refletir:\n",
        "\n",
        "* Você esperava valore dessa magnitude?\n",
        "* Qual o efeito de aumentar ou diminuir $n$ (atualmente 100) na distribuição da variável `binomial`?"
      ]
    },
    {
      "cell_type": "markdown",
      "metadata": {
        "id": "Z4-UaRwfUcBe",
        "colab_type": "text"
      },
      "source": [
        "## Parte 2"
      ]
    },
    {
      "cell_type": "markdown",
      "metadata": {
        "id": "l0iocYwsUcBe",
        "colab_type": "text"
      },
      "source": [
        "### _Setup_ da parte 2"
      ]
    },
    {
      "cell_type": "code",
      "metadata": {
        "id": "WAguRuh-cxHS",
        "colab_type": "code",
        "colab": {
          "base_uri": "https://localhost:8080/",
          "height": 34
        },
        "outputId": "41ca1223-b41c-487c-a69b-f49dfecca640"
      },
      "source": [
        "#from google.colab import drive\n",
        "#drive.mount('/content/gdrive')\n",
        "#\"gdrive/My Drive/codenation/codenation/data-science-1/pulsar_stars.csv\""
      ],
      "execution_count": 176,
      "outputs": [
        {
          "output_type": "stream",
          "text": [
            "Drive already mounted at /content/gdrive; to attempt to forcibly remount, call drive.mount(\"/content/gdrive\", force_remount=True).\n"
          ],
          "name": "stdout"
        }
      ]
    },
    {
      "cell_type": "code",
      "metadata": {
        "id": "2pk0p-lwUcBf",
        "colab_type": "code",
        "colab": {}
      },
      "source": [
        "stars = pd.read_csv(\"pulsar_stars.csv\")\n",
        "\n",
        "stars.rename({old_name: new_name\n",
        "              for (old_name, new_name)\n",
        "              in zip(stars.columns,\n",
        "                     [\"mean_profile\", \"sd_profile\", \"kurt_profile\", \"skew_profile\", \"mean_curve\", \"sd_curve\", \"kurt_curve\", \"skew_curve\", \"target\"])\n",
        "             },\n",
        "             axis=1, inplace=True)\n",
        "\n",
        "stars.loc[:, \"target\"] = stars.target.astype(bool)"
      ],
      "execution_count": 177,
      "outputs": []
    },
    {
      "cell_type": "markdown",
      "metadata": {
        "id": "1OlhULl4UcBi",
        "colab_type": "text"
      },
      "source": [
        "## Inicie sua análise da parte 2 a partir daqui"
      ]
    },
    {
      "cell_type": "code",
      "metadata": {
        "id": "MbPjUtZPUcBi",
        "colab_type": "code",
        "colab": {
          "base_uri": "https://localhost:8080/",
          "height": 402
        },
        "outputId": "894ed0a2-ee22-4cca-f0aa-3c7c944af059"
      },
      "source": [
        "# Sua análise da parte 2 começa aqui.\n",
        "stars.loc[(stars['target'] == False), 'target'] = 0\n",
        "stars.loc[(stars['target'] == True), 'target'] = 1\n",
        "stars"
      ],
      "execution_count": 178,
      "outputs": [
        {
          "output_type": "execute_result",
          "data": {
            "text/html": [
              "<div>\n",
              "<style scoped>\n",
              "    .dataframe tbody tr th:only-of-type {\n",
              "        vertical-align: middle;\n",
              "    }\n",
              "\n",
              "    .dataframe tbody tr th {\n",
              "        vertical-align: top;\n",
              "    }\n",
              "\n",
              "    .dataframe thead th {\n",
              "        text-align: right;\n",
              "    }\n",
              "</style>\n",
              "<table border=\"1\" class=\"dataframe\">\n",
              "  <thead>\n",
              "    <tr style=\"text-align: right;\">\n",
              "      <th></th>\n",
              "      <th>mean_profile</th>\n",
              "      <th>sd_profile</th>\n",
              "      <th>kurt_profile</th>\n",
              "      <th>skew_profile</th>\n",
              "      <th>mean_curve</th>\n",
              "      <th>sd_curve</th>\n",
              "      <th>kurt_curve</th>\n",
              "      <th>skew_curve</th>\n",
              "      <th>target</th>\n",
              "    </tr>\n",
              "  </thead>\n",
              "  <tbody>\n",
              "    <tr>\n",
              "      <th>0</th>\n",
              "      <td>102.507812</td>\n",
              "      <td>58.882430</td>\n",
              "      <td>0.465318</td>\n",
              "      <td>-0.515088</td>\n",
              "      <td>1.677258</td>\n",
              "      <td>14.860146</td>\n",
              "      <td>10.576487</td>\n",
              "      <td>127.393580</td>\n",
              "      <td>0</td>\n",
              "    </tr>\n",
              "    <tr>\n",
              "      <th>1</th>\n",
              "      <td>103.015625</td>\n",
              "      <td>39.341649</td>\n",
              "      <td>0.323328</td>\n",
              "      <td>1.051164</td>\n",
              "      <td>3.121237</td>\n",
              "      <td>21.744669</td>\n",
              "      <td>7.735822</td>\n",
              "      <td>63.171909</td>\n",
              "      <td>0</td>\n",
              "    </tr>\n",
              "    <tr>\n",
              "      <th>2</th>\n",
              "      <td>136.750000</td>\n",
              "      <td>57.178449</td>\n",
              "      <td>-0.068415</td>\n",
              "      <td>-0.636238</td>\n",
              "      <td>3.642977</td>\n",
              "      <td>20.959280</td>\n",
              "      <td>6.896499</td>\n",
              "      <td>53.593661</td>\n",
              "      <td>0</td>\n",
              "    </tr>\n",
              "    <tr>\n",
              "      <th>3</th>\n",
              "      <td>88.726562</td>\n",
              "      <td>40.672225</td>\n",
              "      <td>0.600866</td>\n",
              "      <td>1.123492</td>\n",
              "      <td>1.178930</td>\n",
              "      <td>11.468720</td>\n",
              "      <td>14.269573</td>\n",
              "      <td>252.567306</td>\n",
              "      <td>0</td>\n",
              "    </tr>\n",
              "    <tr>\n",
              "      <th>4</th>\n",
              "      <td>93.570312</td>\n",
              "      <td>46.698114</td>\n",
              "      <td>0.531905</td>\n",
              "      <td>0.416721</td>\n",
              "      <td>1.636288</td>\n",
              "      <td>14.545074</td>\n",
              "      <td>10.621748</td>\n",
              "      <td>131.394004</td>\n",
              "      <td>0</td>\n",
              "    </tr>\n",
              "    <tr>\n",
              "      <th>...</th>\n",
              "      <td>...</td>\n",
              "      <td>...</td>\n",
              "      <td>...</td>\n",
              "      <td>...</td>\n",
              "      <td>...</td>\n",
              "      <td>...</td>\n",
              "      <td>...</td>\n",
              "      <td>...</td>\n",
              "      <td>...</td>\n",
              "    </tr>\n",
              "    <tr>\n",
              "      <th>17892</th>\n",
              "      <td>136.429688</td>\n",
              "      <td>59.847421</td>\n",
              "      <td>-0.187846</td>\n",
              "      <td>-0.738123</td>\n",
              "      <td>1.296823</td>\n",
              "      <td>12.166062</td>\n",
              "      <td>15.450260</td>\n",
              "      <td>285.931022</td>\n",
              "      <td>0</td>\n",
              "    </tr>\n",
              "    <tr>\n",
              "      <th>17893</th>\n",
              "      <td>122.554688</td>\n",
              "      <td>49.485605</td>\n",
              "      <td>0.127978</td>\n",
              "      <td>0.323061</td>\n",
              "      <td>16.409699</td>\n",
              "      <td>44.626893</td>\n",
              "      <td>2.945244</td>\n",
              "      <td>8.297092</td>\n",
              "      <td>0</td>\n",
              "    </tr>\n",
              "    <tr>\n",
              "      <th>17894</th>\n",
              "      <td>119.335938</td>\n",
              "      <td>59.935939</td>\n",
              "      <td>0.159363</td>\n",
              "      <td>-0.743025</td>\n",
              "      <td>21.430602</td>\n",
              "      <td>58.872000</td>\n",
              "      <td>2.499517</td>\n",
              "      <td>4.595173</td>\n",
              "      <td>0</td>\n",
              "    </tr>\n",
              "    <tr>\n",
              "      <th>17895</th>\n",
              "      <td>114.507812</td>\n",
              "      <td>53.902400</td>\n",
              "      <td>0.201161</td>\n",
              "      <td>-0.024789</td>\n",
              "      <td>1.946488</td>\n",
              "      <td>13.381731</td>\n",
              "      <td>10.007967</td>\n",
              "      <td>134.238910</td>\n",
              "      <td>0</td>\n",
              "    </tr>\n",
              "    <tr>\n",
              "      <th>17896</th>\n",
              "      <td>57.062500</td>\n",
              "      <td>85.797340</td>\n",
              "      <td>1.406391</td>\n",
              "      <td>0.089520</td>\n",
              "      <td>188.306020</td>\n",
              "      <td>64.712562</td>\n",
              "      <td>-1.597527</td>\n",
              "      <td>1.429475</td>\n",
              "      <td>0</td>\n",
              "    </tr>\n",
              "  </tbody>\n",
              "</table>\n",
              "<p>17897 rows × 9 columns</p>\n",
              "</div>"
            ],
            "text/plain": [
              "       mean_profile  sd_profile  kurt_profile  ...  kurt_curve  skew_curve  target\n",
              "0        102.507812   58.882430      0.465318  ...   10.576487  127.393580       0\n",
              "1        103.015625   39.341649      0.323328  ...    7.735822   63.171909       0\n",
              "2        136.750000   57.178449     -0.068415  ...    6.896499   53.593661       0\n",
              "3         88.726562   40.672225      0.600866  ...   14.269573  252.567306       0\n",
              "4         93.570312   46.698114      0.531905  ...   10.621748  131.394004       0\n",
              "...             ...         ...           ...  ...         ...         ...     ...\n",
              "17892    136.429688   59.847421     -0.187846  ...   15.450260  285.931022       0\n",
              "17893    122.554688   49.485605      0.127978  ...    2.945244    8.297092       0\n",
              "17894    119.335938   59.935939      0.159363  ...    2.499517    4.595173       0\n",
              "17895    114.507812   53.902400      0.201161  ...   10.007967  134.238910       0\n",
              "17896     57.062500   85.797340      1.406391  ...   -1.597527    1.429475       0\n",
              "\n",
              "[17897 rows x 9 columns]"
            ]
          },
          "metadata": {
            "tags": []
          },
          "execution_count": 178
        }
      ]
    },
    {
      "cell_type": "markdown",
      "metadata": {
        "id": "CO88DANfUcBm",
        "colab_type": "text"
      },
      "source": [
        "## Questão 4\n",
        "\n",
        "Considerando a variável `mean_profile` de `stars`:\n",
        "\n",
        "1. Filtre apenas os valores de `mean_profile` onde `target == 0` (ou seja, onde a estrela não é um pulsar).\n",
        "2. Padronize a variável `mean_profile` filtrada anteriormente para ter média 0 e variância 1.\n",
        "\n",
        "Chamaremos a variável resultante de `false_pulsar_mean_profile_standardized`.\n",
        "\n",
        "Encontre os quantis teóricos para uma distribuição normal de média 0 e variância 1 para 0.80, 0.90 e 0.95 através da função `norm.ppf()` disponível em `scipy.stats`.\n",
        "\n",
        "Quais as probabilidade associadas a esses quantis utilizando a CDF empírica da variável `false_pulsar_mean_profile_standardized`? Responda como uma tupla de três elementos arredondados para três casas decimais."
      ]
    },
    {
      "cell_type": "code",
      "metadata": {
        "id": "Ns2zS8poUcBn",
        "colab_type": "code",
        "colab": {}
      },
      "source": [
        "def get_false_pulsar_mean_profile_standardized():\n",
        "\n",
        "    false_pulsar_mean_profile_standardized = stars.loc[stars['target'] == 0, 'mean_profile']\n",
        "\n",
        "    false_pulsar_mean_profile_standardized = (false_pulsar_mean_profile_standardized - false_pulsar_mean_profile_standardized.mean()) / false_pulsar_mean_profile_standardized.std()\n",
        "\n",
        "    return false_pulsar_mean_profile_standardized\n",
        "    \n",
        "\n",
        "def q4():\n",
        "    # Retorne aqui o resultado da questão 4.\n",
        "    false_pulsar_mean_profile_standardized = get_false_pulsar_mean_profile_standardized()\n",
        "\n",
        "    ecdf = ECDF(false_pulsar_mean_profile_standardized)\n",
        "    \n",
        "    q08 = sct.norm.ppf(0.80, loc=0, scale=1)\n",
        "    q09 = sct.norm.ppf(0.90, loc=0, scale=1)\n",
        "    q95 = sct.norm.ppf(0.95, loc=0, scale=1)\n",
        "\n",
        "    p08 = round(ecdf([q08])[0], 3)\n",
        "    p09 = round(ecdf([q09])[0], 3)\n",
        "    p95 = round(ecdf([q95])[0], 3)\n",
        "\n",
        "    return (float(p08), float(p09), float(p95))"
      ],
      "execution_count": 245,
      "outputs": []
    },
    {
      "cell_type": "code",
      "metadata": {
        "id": "vIu04IHje2ws",
        "colab_type": "code",
        "colab": {
          "base_uri": "https://localhost:8080/",
          "height": 34
        },
        "outputId": "fd749de2-7975-49ff-97ef-b15e6cf8e803"
      },
      "source": [
        "q4()"
      ],
      "execution_count": 246,
      "outputs": [
        {
          "output_type": "execute_result",
          "data": {
            "text/plain": [
              "(0.806, 0.911, 0.959)"
            ]
          },
          "metadata": {
            "tags": []
          },
          "execution_count": 246
        }
      ]
    },
    {
      "cell_type": "markdown",
      "metadata": {
        "id": "4PcUkxLPUcBp",
        "colab_type": "text"
      },
      "source": [
        "Para refletir:\n",
        "\n",
        "* Os valores encontrados fazem sentido?\n",
        "* O que isso pode dizer sobre a distribuição da variável `false_pulsar_mean_profile_standardized`?"
      ]
    },
    {
      "cell_type": "markdown",
      "metadata": {
        "id": "hX38bv8sUcBq",
        "colab_type": "text"
      },
      "source": [
        "## Questão 5\n",
        "\n",
        "Qual a diferença entre os quantis Q1, Q2 e Q3 de `false_pulsar_mean_profile_standardized` e os mesmos quantis teóricos de uma distribuição normal de média 0 e variância 1? Responda como uma tupla de três elementos arredondados para três casas decimais."
      ]
    },
    {
      "cell_type": "code",
      "metadata": {
        "id": "t3kKEA06UcBr",
        "colab_type": "code",
        "colab": {}
      },
      "source": [
        "def q5():\n",
        "    # Retorne aqui o resultado da questão 5.\n",
        "\n",
        "    false_pulsar_mean_profile_standardized = get_false_pulsar_mean_profile_standardized()\n",
        "\n",
        "    Q1_pulsar = false_pulsar_mean_profile_standardized.describe()['25%']\n",
        "\n",
        "    Q2_pulsar = false_pulsar_mean_profile_standardized.describe()['50%']\n",
        "\n",
        "    Q3_pulsar = false_pulsar_mean_profile_standardized.describe()['75%']\n",
        "\n",
        "    q1 = sct.norm.ppf(0.25, loc=0, scale=1)\n",
        "    \n",
        "    q2 = sct.norm.ppf(0.5, loc=0, scale=1)\n",
        "    \n",
        "    q3 = sct.norm.ppf(0.75, loc=0, scale=1)\n",
        "    \n",
        "    delta1 = round(Q1_pulsar - q1, 3)\n",
        "\n",
        "    delta2 = round(Q2_pulsar - q2, 3)\n",
        "\n",
        "    delta3 = round(Q3_pulsar - q3, 3)\n",
        "\n",
        "    return (float(delta1), float(delta2), float(delta3))"
      ],
      "execution_count": 243,
      "outputs": []
    },
    {
      "cell_type": "code",
      "metadata": {
        "id": "1I8iqOh8iK5X",
        "colab_type": "code",
        "colab": {
          "base_uri": "https://localhost:8080/",
          "height": 34
        },
        "outputId": "b6be1ee8-6d21-4b20-b4c3-206af2da70f0"
      },
      "source": [
        "q5()"
      ],
      "execution_count": 244,
      "outputs": [
        {
          "output_type": "execute_result",
          "data": {
            "text/plain": [
              "(0.027, 0.04, -0.004)"
            ]
          },
          "metadata": {
            "tags": []
          },
          "execution_count": 244
        }
      ]
    },
    {
      "cell_type": "markdown",
      "metadata": {
        "id": "ciuQljdIUcBu",
        "colab_type": "text"
      },
      "source": [
        "Para refletir:\n",
        "\n",
        "* Os valores encontrados fazem sentido?\n",
        "* O que isso pode dizer sobre a distribuição da variável `false_pulsar_mean_profile_standardized`?\n",
        "* Curiosidade: alguns testes de hipóteses sobre normalidade dos dados utilizam essa mesma abordagem."
      ]
    }
  ],
  "metadata": {
    "kernelspec": {
      "display_name": "Python 3",
      "language": "python",
      "name": "python3"
    },
    "language_info": {
      "codemirror_mode": {
        "name": "ipython",
        "version": 3
      },
      "file_extension": ".py",
      "mimetype": "text/x-python",
      "name": "python",
      "nbconvert_exporter": "python",
      "pygments_lexer": "ipython3",
      "version": "3.7.5-final"
    },
    "colab": {
      "name": "main.ipynb",
      "provenance": [],
      "collapsed_sections": []
    }
  },
  "nbformat": 4,
  "nbformat_minor": 0
}